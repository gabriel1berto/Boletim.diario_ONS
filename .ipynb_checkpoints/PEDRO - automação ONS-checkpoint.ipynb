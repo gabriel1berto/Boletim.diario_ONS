{
 "cells": [
  {
   "cell_type": "markdown",
   "id": "0becbf77",
   "metadata": {},
   "source": []
  },
  {
   "cell_type": "code",
   "execution_count": 1,
   "id": "105d9ed2",
   "metadata": {},
   "outputs": [
    {
     "ename": "ImportError",
     "evalue": "cannot import name 'data_i' from 'config' (C:\\Users\\ghumb\\anaconda3\\lib\\site-packages\\config\\__init__.py)",
     "output_type": "error",
     "traceback": [
      "\u001b[1;31m---------------------------------------------------------------------------\u001b[0m",
      "\u001b[1;31mImportError\u001b[0m                               Traceback (most recent call last)",
      "\u001b[1;32m~\\AppData\\Local\\Temp\\ipykernel_9308\\102222013.py\u001b[0m in \u001b[0;36m<module>\u001b[1;34m\u001b[0m\n\u001b[0;32m      3\u001b[0m \u001b[1;32mimport\u001b[0m \u001b[0mtime\u001b[0m\u001b[1;33m\u001b[0m\u001b[1;33m\u001b[0m\u001b[0m\n\u001b[0;32m      4\u001b[0m \u001b[1;32mimport\u001b[0m \u001b[0mdatetime\u001b[0m\u001b[1;33m\u001b[0m\u001b[1;33m\u001b[0m\u001b[0m\n\u001b[1;32m----> 5\u001b[1;33m \u001b[1;32mfrom\u001b[0m \u001b[0mconfig\u001b[0m \u001b[1;32mimport\u001b[0m \u001b[0mdata_i\u001b[0m\u001b[1;33m,\u001b[0m \u001b[0mdata_f\u001b[0m\u001b[1;33m\u001b[0m\u001b[1;33m\u001b[0m\u001b[0m\n\u001b[0m\u001b[0;32m      6\u001b[0m \u001b[1;33m\u001b[0m\u001b[0m\n\u001b[0;32m      7\u001b[0m \u001b[1;31m#funcao para ajustar para o formato do site\u001b[0m\u001b[1;33m\u001b[0m\u001b[1;33m\u001b[0m\u001b[0m\n",
      "\u001b[1;31mImportError\u001b[0m: cannot import name 'data_i' from 'config' (C:\\Users\\ghumb\\anaconda3\\lib\\site-packages\\config\\__init__.py)"
     ]
    }
   ],
   "source": [
    "#PEDRO \n",
    "\n",
    "import requests\n",
    "import os\n",
    "import time\n",
    "import datetime\n",
    "from config import data_i, data_f\n",
    "\n",
    "#funcao para ajustar para o formato do site\n",
    "def str_data_BDO(data_i):\n",
    "    str_date = str(data_i.strftime('%d-%m-%Y'))\n",
    "    path1 = f'DIARIO_{str_date}.xlsx'\n",
    "    return path1\n",
    "\n",
    "#data_i = datetime.datetime(2023,1,27) #primeiro excel a ser lido\n",
    "#data_f = datetime.datetime(2023,1,28) #ultimo excel a ser lido\n",
    "\n",
    "i=1\n",
    "while (data_i <= data_f):\n",
    "#ajustar para o formato do site\n",
    "    print(f\"a data atual eh :{data_i}\")\n",
    "    data = str(data_i.strftime('%Y_%m_%d'))\n",
    "    data_file = str_data_BDO(data_i)\n",
    "    path = os.path.abspath(os.path.dirname(__file__))\n",
    "    ano = data_i.strftime('%Y')\n",
    "    mes = data_i.strftime('%m')\n",
    "    path_full = os.path.join(path,\"BDO\",ano,mes)\n",
    "    file = os.path.join(path_full, data_file)\n",
    "    os.makedirs(path_full, exist_ok=True)\n",
    "    print('buscaremos aqui: ', file)\n",
    "\n",
    "    if os.path.isfile(file):\n",
    "        print('arquivo existente')\n",
    "        time.sleep(2)\n",
    "    else:\n",
    "        print('no file, vamos baixar agora')\n",
    "        url = f'https://sdro.ons.org.br/SDRO/DIARIO/{data}/Html/{data_file}'\n",
    "        response = requests.get(url, allow_redirects=True)\n",
    "\n",
    "        if response.status_code == 200:\n",
    "            with open(file, 'wb') as f:\n",
    "                f.write(response.content)\n",
    "        else:\n",
    "            print(f\"Failed to download the file. Response code: {response.status_code}\")\n",
    "        time.sleep(2)\n",
    "\n",
    "    data_i = data_i + datetime.timedelta(days=1)\n",
    "    i = i+1\n",
    "    time.sleep(2)\n",
    "\n",
    "#folder_path = os.path.dirname(os.path.realpath(__file__))\n",
    "#file_path = os.path.join(folder_path, data_file)\n"
   ]
  },
  {
   "cell_type": "code",
   "execution_count": null,
   "id": "687c8b71",
   "metadata": {},
   "outputs": [],
   "source": []
  },
  {
   "cell_type": "code",
   "execution_count": null,
   "id": "cfc1d4c7",
   "metadata": {},
   "outputs": [],
   "source": []
  },
  {
   "cell_type": "code",
   "execution_count": null,
   "id": "8940997f",
   "metadata": {},
   "outputs": [],
   "source": []
  },
  {
   "cell_type": "code",
   "execution_count": null,
   "id": "d821886d",
   "metadata": {},
   "outputs": [],
   "source": []
  },
  {
   "cell_type": "code",
   "execution_count": null,
   "id": "f05d3bb9",
   "metadata": {},
   "outputs": [],
   "source": []
  },
  {
   "cell_type": "code",
   "execution_count": null,
   "id": "81fa91e4",
   "metadata": {},
   "outputs": [],
   "source": []
  },
  {
   "cell_type": "code",
   "execution_count": null,
   "id": "b2ae02af",
   "metadata": {},
   "outputs": [],
   "source": []
  },
  {
   "cell_type": "code",
   "execution_count": null,
   "id": "2427208e",
   "metadata": {},
   "outputs": [],
   "source": []
  },
  {
   "cell_type": "code",
   "execution_count": null,
   "id": "2dfa5015",
   "metadata": {},
   "outputs": [],
   "source": []
  }
 ],
 "metadata": {
  "kernelspec": {
   "display_name": "Python 3 (ipykernel)",
   "language": "python",
   "name": "python3"
  },
  "language_info": {
   "codemirror_mode": {
    "name": "ipython",
    "version": 3
   },
   "file_extension": ".py",
   "mimetype": "text/x-python",
   "name": "python",
   "nbconvert_exporter": "python",
   "pygments_lexer": "ipython3",
   "version": "3.9.13"
  }
 },
 "nbformat": 4,
 "nbformat_minor": 5
}
